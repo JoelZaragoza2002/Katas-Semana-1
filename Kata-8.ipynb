{
 "cells": [
  {
   "cell_type": "markdown",
   "metadata": {},
   "source": [
    "# Ejercicio 1"
   ]
  },
  {
   "cell_type": "code",
   "execution_count": 11,
   "metadata": {},
   "outputs": [
    {
     "name": "stdout",
     "output_type": "stream",
     "text": [
      "Marte tiene 42 Lunas\n",
      "Marte tiene una circunferencia polar de 6752\n",
      "Marte tiene una circunferencia Ecuatorial de 6792\n"
     ]
    }
   ],
   "source": [
    "#Crear diccionario\n",
    "Planeta = {\n",
    "    'nombre' : 'Marte',\n",
    "    'Lunas' : 42\n",
    "}\n",
    "\n",
    "#Mostrar libreria\n",
    "print(f'{Planeta[\"nombre\"]} tiene {Planeta[\"Lunas\"]} Lunas')\n",
    "#Agregar\n",
    "Planeta['Circunferencia (km)'] = {\n",
    "    'Polar': 6752 ,\n",
    "    'Ecuatorial' : 6792\n",
    "}\n",
    "#Mostrar\n",
    "print(f'{Planeta[\"nombre\"]} tiene una circunferencia polar de {Planeta[\"Circunferencia (km)\"][\"Polar\"]}')\n",
    "print(f'{Planeta[\"nombre\"]} tiene una circunferencia Ecuatorial de {Planeta[\"Circunferencia (km)\"][\"Ecuatorial\"]}')"
   ]
  },
  {
   "cell_type": "markdown",
   "metadata": {},
   "source": [
    "# Ejercicio 2"
   ]
  },
  {
   "cell_type": "code",
   "execution_count": 6,
   "metadata": {},
   "outputs": [
    {
     "name": "stdout",
     "output_type": "stream",
     "text": [
      "El promedio de lunas es 17.833333333333332\n"
     ]
    }
   ],
   "source": [
    "Cantidad_Lunas = {\n",
    "    'mercury': 0,\n",
    "    'venus': 0,\n",
    "    'earth': 1,\n",
    "    'mars': 2,\n",
    "    'jupiter': 79,\n",
    "    'saturn': 82,\n",
    "    'uranus': 27,\n",
    "    'neptune': 14,\n",
    "    'pluto': 5,\n",
    "    'haumea': 2,\n",
    "    'makemake': 1,\n",
    "    'eris': 1\n",
    "}\n",
    "Lunas = Cantidad_Lunas.values()\n",
    "Cantidad = len(Cantidad_Lunas.keys())\n",
    "Total_Lunas = 0\n",
    "for Luna in Lunas:\n",
    "    Total_Lunas = Total_Lunas + Luna\n",
    "Promedio = Total_Lunas / Cantidad\n",
    "print('El promedio de lunas es', Promedio)"
   ]
  }
 ],
 "metadata": {
  "interpreter": {
   "hash": "98983fd2d04aaa82271f5b6b7246e6596c19e18c6b63fe3786f498fede22a8ee"
  },
  "kernelspec": {
   "display_name": "Python 3.10.2 64-bit",
   "language": "python",
   "name": "python3"
  },
  "language_info": {
   "codemirror_mode": {
    "name": "ipython",
    "version": 3
   },
   "file_extension": ".py",
   "mimetype": "text/x-python",
   "name": "python",
   "nbconvert_exporter": "python",
   "pygments_lexer": "ipython3",
   "version": "3.10.2"
  },
  "orig_nbformat": 4
 },
 "nbformat": 4,
 "nbformat_minor": 2
}
