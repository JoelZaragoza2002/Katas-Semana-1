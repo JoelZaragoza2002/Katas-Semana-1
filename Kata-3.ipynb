{
 "cells": [
  {
   "cell_type": "markdown",
   "metadata": {},
   "source": [
    "# Saber si el asteroide es un peligro"
   ]
  },
  {
   "cell_type": "code",
   "execution_count": 1,
   "metadata": {},
   "outputs": [
    {
     "name": "stdout",
     "output_type": "stream",
     "text": [
      "ADVERTENCIA, ¡El asteroide es un peligro!\n"
     ]
    }
   ],
   "source": [
    "asteroide = 45\n",
    "if asteroide > 25:\n",
    "    print('ADVERTENCIA, ¡El asteroide es un peligro!')\n",
    "else:\n",
    "    print('Es asteroide no es un peligro, tengan buen día')"
   ]
  },
  {
   "cell_type": "markdown",
   "metadata": {},
   "source": [
    "# Luz de asteroide"
   ]
  },
  {
   "cell_type": "code",
   "execution_count": 1,
   "metadata": {},
   "outputs": [
    {
     "name": "stdout",
     "output_type": "stream",
     "text": [
      "No se ve nada en el cielo\n"
     ]
    }
   ],
   "source": [
    "asteroide = 19\n",
    "if asteroide > 20:\n",
    "    print('¡Se ve algo en el cielo!')\n",
    "elif asteroide == 20:\n",
    "    print('¡Se ve algo en el cielo!')\n",
    "else:\n",
    "    print('No se ve nada en el cielo')"
   ]
  },
  {
   "cell_type": "markdown",
   "metadata": {},
   "source": [
    "#   Tamaño del asterioide"
   ]
  },
  {
   "cell_type": "code",
   "execution_count": 5,
   "metadata": {},
   "outputs": [
    {
     "name": "stdout",
     "output_type": "stream",
     "text": [
      "¡Se puede ver algo en el cielo!\n"
     ]
    }
   ],
   "source": [
    "asteroide_vel = int(input('Introduce la velocidad del asteroide: '))\n",
    "asteroide_tam = int(input('Introduce el tamaño del asteroide: '))\n",
    "if asteroide_tam > 25 and asteroide_vel > 25:\n",
    "    print('¡Se anuncian daños serios!')\n",
    "elif asteroide_vel >= 20:\n",
    "    print('¡Se puede ver algo en el cielo!')\n",
    "elif asteroide_tam < 25:\n",
    "    print('Todo está bien')\n",
    "else:\n",
    "    print('Todo está correcto')\n",
    "\n",
    "\n"
   ]
  }
 ],
 "metadata": {
  "interpreter": {
   "hash": "98983fd2d04aaa82271f5b6b7246e6596c19e18c6b63fe3786f498fede22a8ee"
  },
  "kernelspec": {
   "display_name": "Python 3.10.2 64-bit",
   "language": "python",
   "name": "python3"
  },
  "language_info": {
   "codemirror_mode": {
    "name": "ipython",
    "version": 3
   },
   "file_extension": ".py",
   "mimetype": "text/x-python",
   "name": "python",
   "nbconvert_exporter": "python",
   "pygments_lexer": "ipython3",
   "version": "3.10.2"
  },
  "orig_nbformat": 4
 },
 "nbformat": 4,
 "nbformat_minor": 2
}
