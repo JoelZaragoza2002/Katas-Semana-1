{
 "cells": [
  {
   "cell_type": "markdown",
   "metadata": {},
   "source": [
    "# Ejercicio 1"
   ]
  },
  {
   "cell_type": "code",
   "execution_count": 2,
   "metadata": {},
   "outputs": [
    {
     "name": "stdout",
     "output_type": "stream",
     "text": [
      "El reporte de los tanque es  \n",
      "    Promedio total: 78.0 %\n",
      "    Tanque principal: 88 %\n",
      "    Tanque externo: 76 %\n",
      "    Tanque de hidrogeno: 70 %\n",
      "    \n"
     ]
    }
   ],
   "source": [
    "def reporte(values):\n",
    "    Total = sum(values)\n",
    "    Cantidad = len(values)\n",
    "    return Total / Cantidad\n",
    "\n",
    "def generar_reporte(Tanque_principal, Tanque_externo, Tanque_hidrogeno):\n",
    "    promedio = (Tanque_principal + Tanque_externo + Tanque_hidrogeno) / 3\n",
    "    return f\"\"\"\n",
    "    Promedio total: {reporte([Tanque_principal, Tanque_externo, Tanque_hidrogeno])} %\n",
    "    Tanque principal: {Tanque_principal} %\n",
    "    Tanque externo: {Tanque_externo} %\n",
    "    Tanque de hidrogeno: {Tanque_hidrogeno} %\n",
    "    \"\"\"\n",
    "print('El reporte de los tanque es ', generar_reporte(88, 76, 70))"
   ]
  },
  {
   "cell_type": "markdown",
   "metadata": {},
   "source": [
    "# Ejercicio 2"
   ]
  },
  {
   "cell_type": "code",
   "execution_count": 12,
   "metadata": {},
   "outputs": [
    {
     "name": "stdout",
     "output_type": "stream",
     "text": [
      "\n",
      "    Mision hacia Moon\n",
      "    Tiempo total: 65 minutos\n",
      "    TCombustible total: 500000 galones\n",
      "    \n",
      "\n",
      "    Mision to Moon\n",
      "    Timepo total: 74 minutos\n",
      "    Combustible restante: 500000\n",
      "    \n",
      "\n",
      "    Mision hacia Moon\n",
      "    Tiempo total: 74 minutos\n",
      "    Combustible total: 500000\n",
      "    main tanque -> 300000 galones restantes\n",
      "external tanque -> 200000 galones restantes\n",
      "\n"
     ]
    }
   ],
   "source": [
    "def Reporte_mision(Tiempo_prelanzamiento, Tiempo_vuelo, Destino, Tanque_externo, Tanque_principal):\n",
    "    return f\"\"\"\n",
    "    Mision hacia {Destino}\n",
    "    Tiempo total: {Tiempo_prelanzamiento + Tiempo_vuelo} minutos\n",
    "    TCombustible total: {Tanque_externo + Tanque_principal} galones\n",
    "    \"\"\"\n",
    "\n",
    "print(Reporte_mision(14, 51, \"Moon\", 200000, 300000))\n",
    "\n",
    "def Reporte_mision(Destino, *Minutos, **Reservas_combustible):\n",
    "    return  f\"\"\"\n",
    "    Mision to {Destino}\n",
    "    Timepo total: {sum(Minutos)} minutos\n",
    "    Combustible restante: {sum(Reservas_combustible.values())}\n",
    "    \"\"\"\n",
    "print(Reporte_mision(\"Moon\", 8, 11, 55, principal=300000, externo=200000))\n",
    "\n",
    "def Reporte_mision(Destino, *Minutos, **Reservas_combustible):\n",
    "    Reporte_principal = f\"\"\"\n",
    "    Mision hacia {Destino}\n",
    "    Tiempo total: {sum(Minutos)} minutos\n",
    "    Combustible total: {sum(Reservas_combustible.values())}\n",
    "    \"\"\"\n",
    "    for Nombre_tanque, galones, in Reservas_combustible.items():\n",
    "        Reporte_principal += f'{Nombre_tanque} tanque -> {galones} galones restantes\\n'\n",
    "    return Reporte_principal  \n",
    "print(Reporte_mision(\"Moon\", 8, 11, 55, main=300000, external=200000))\n"
   ]
  }
 ],
 "metadata": {
  "interpreter": {
   "hash": "98983fd2d04aaa82271f5b6b7246e6596c19e18c6b63fe3786f498fede22a8ee"
  },
  "kernelspec": {
   "display_name": "Python 3.10.2 64-bit",
   "language": "python",
   "name": "python3"
  },
  "language_info": {
   "codemirror_mode": {
    "name": "ipython",
    "version": 3
   },
   "file_extension": ".py",
   "mimetype": "text/x-python",
   "name": "python",
   "nbconvert_exporter": "python",
   "pygments_lexer": "ipython3",
   "version": "3.10.2"
  },
  "orig_nbformat": 4
 },
 "nbformat": 4,
 "nbformat_minor": 2
}
