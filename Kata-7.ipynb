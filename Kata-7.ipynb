{
 "cells": [
  {
   "cell_type": "markdown",
   "metadata": {},
   "source": [
    "# Ejercicio 1"
   ]
  },
  {
   "cell_type": "code",
   "execution_count": 9,
   "metadata": {},
   "outputs": [],
   "source": [
    "Nuevo_planeta = ''\n",
    "Planetas = []\n",
    "\n",
    "while Nuevo_planeta.lower() != 'terminado':\n",
    "    if Nuevo_planeta:\n",
    "        Planetas.append(Nuevo_planeta)\n",
    "    Nuevo_planeta = input('Introduce el nombre del planeta o \"terminado\" para terminar')\n",
    "\n",
    "\n"
   ]
  },
  {
   "cell_type": "markdown",
   "metadata": {},
   "source": [
    "# Ejercicio 2"
   ]
  },
  {
   "cell_type": "code",
   "execution_count": 12,
   "metadata": {},
   "outputs": [
    {
     "name": "stdout",
     "output_type": "stream",
     "text": [
      "Tierra\n",
      "Urano\n",
      "Jupiter\n"
     ]
    }
   ],
   "source": [
    "Nuevo_planeta = ''\n",
    "Planetas = []\n",
    "\n",
    "while Nuevo_planeta.lower() != 'terminado':\n",
    "    if Nuevo_planeta:\n",
    "        Planetas.append(Nuevo_planeta)\n",
    "    Nuevo_planeta = input('Introduce el nombre del planeta o \"terminado\" para terminar')\n",
    "for planetas in Planetas:\n",
    "    print(planetas)\n",
    "\n",
    "\n",
    "\n"
   ]
  }
 ],
 "metadata": {
  "interpreter": {
   "hash": "98983fd2d04aaa82271f5b6b7246e6596c19e18c6b63fe3786f498fede22a8ee"
  },
  "kernelspec": {
   "display_name": "Python 3.10.2 64-bit",
   "language": "python",
   "name": "python3"
  },
  "language_info": {
   "codemirror_mode": {
    "name": "ipython",
    "version": 3
   },
   "file_extension": ".py",
   "mimetype": "text/x-python",
   "name": "python",
   "nbconvert_exporter": "python",
   "pygments_lexer": "ipython3",
   "version": "3.10.2"
  },
  "orig_nbformat": 4
 },
 "nbformat": 4,
 "nbformat_minor": 2
}
