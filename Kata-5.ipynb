{
 "cells": [
  {
   "cell_type": "markdown",
   "metadata": {},
   "source": [
    "# Ejercicio 1"
   ]
  },
  {
   "cell_type": "code",
   "execution_count": 7,
   "metadata": {},
   "outputs": [
    {
     "name": "stdout",
     "output_type": "stream",
     "text": [
      "La distancia en kilometros es: 628949330\n",
      "La distancia en millas es: 390577534\n"
     ]
    }
   ],
   "source": [
    "Tierra = 149597870\n",
    "Jupiter = 778547200\n",
    "Distancia = abs(Tierra - Jupiter)\n",
    "Distancia_M = round(Distancia * 0.621)\n",
    "print(f'La distancia en kilometros es: {Distancia}')\n",
    "print(f'La distancia en millas es: {Distancia_M}')\n"
   ]
  },
  {
   "cell_type": "markdown",
   "metadata": {},
   "source": [
    "# Ejercicio 2"
   ]
  },
  {
   "cell_type": "code",
   "execution_count": 8,
   "metadata": {},
   "outputs": [
    {
     "name": "stdout",
     "output_type": "stream",
     "text": [
      "La distancia entre los dos planetas en kilometros es: 50300000\n",
      "La distancia entre los dos planetas en millas es: 31236300 \n"
     ]
    }
   ],
   "source": [
    "Planeta_1 = int(input('Introduce el tamaño del planeta 1 al sol: '))\n",
    "Planeta_2 = int(input('Introduce el tamaño del planeta 2 al sol: '))\n",
    "Distancia = abs(Planeta_1 - Planeta_2)\n",
    "Distancia_M = round(Distancia * 0.621)\n",
    "print(f'La distancia entre los dos planetas en kilometros es: {Distancia}')\n",
    "print(f'La distancia entre los dos planetas en millas es: {Distancia_M} ')\n"
   ]
  }
 ],
 "metadata": {
  "interpreter": {
   "hash": "98983fd2d04aaa82271f5b6b7246e6596c19e18c6b63fe3786f498fede22a8ee"
  },
  "kernelspec": {
   "display_name": "Python 3.10.2 64-bit",
   "language": "python",
   "name": "python3"
  },
  "language_info": {
   "codemirror_mode": {
    "name": "ipython",
    "version": 3
   },
   "file_extension": ".py",
   "mimetype": "text/x-python",
   "name": "python",
   "nbconvert_exporter": "python",
   "pygments_lexer": "ipython3",
   "version": "3.10.2"
  },
  "orig_nbformat": 4
 },
 "nbformat": 4,
 "nbformat_minor": 2
}
